{
 "cells": [
  {
   "cell_type": "markdown",
   "metadata": {},
   "source": [
    "Python OOP Tutorial 4:  [Inheritance - Creating Subclasses](https://youtu.be/RSl87lqOXDE)\n",
    "\n",
    "- Inheritance\n",
    "- Basics of subclasses\n",
    "- Creating a subclass function"
   ]
  },
  {
   "cell_type": "code",
   "execution_count": 25,
   "metadata": {},
   "outputs": [],
   "source": [
    "class Employee:\n",
    "    \n",
    "    raise_amt = 1.04\n",
    "\n",
    "    def __init__(self, first, last, pay):\n",
    "        self.first = first\n",
    "        self.last = last\n",
    "        self.pay = pay\n",
    "        self.email = first + '.' + last + '@company.com'\n",
    "\n",
    "    def fullname(self):\n",
    "        return '{} {}'.format(self.first, self.last)\n",
    "\n",
    "    def apply_raise(self):\n",
    "        self.pay = int(self.pay * Employee.raise_amount)\n",
    "\n",
    "class Developer(Employee):\n",
    "    raise_amt = 1.10\n",
    "\n",
    "    def __init__(self, first, last, pay, prog_lang):\n",
    "        super().__init__(first, last, pay)\n",
    "        self.prog_lang = prog_lang\n",
    "\n",
    "class Manager(Employee):\n",
    "\n",
    "    def __init__(self, first, last, pay, employees=None):\n",
    "        super().__init__(first, last, pay)\n",
    "        if employees is None:\n",
    "            self.employees = []\n",
    "        else:\n",
    "            self.employees = employees\n",
    "\n",
    "    def add_emp(self, emp):\n",
    "        if emp not in self.employees:\n",
    "            self.employees.append(emp)\n",
    "    \n",
    "    def remove_emp(self, emp):\n",
    "        if emp  in self.employees:\n",
    "            self.employees.remove(emp)\n",
    "    \n",
    "    def print_emps(self):\n",
    "        for emp in self.employees:\n",
    "            print('-->', emp.fullname())\n"
   ]
  },
  {
   "cell_type": "code",
   "execution_count": 26,
   "metadata": {},
   "outputs": [
    {
     "name": "stdout",
     "output_type": "stream",
     "text": [
      "Test.User@company.com\n",
      "Python\n"
     ]
    }
   ],
   "source": [
    "# creating a Developer \n",
    "\n",
    "emp_1 = Employee('Corey', 'Schafer', 50000)\n",
    "dev_1 = Developer('Test', 'User', 60000, 'Python')\n",
    "dev_2 = Developer('Mike', 'Cannon', 50000, 'Java')\n",
    "\n",
    "print(dev_1.email)\n",
    "print(dev_1.prog_lang)"
   ]
  },
  {
   "cell_type": "code",
   "execution_count": 27,
   "metadata": {},
   "outputs": [
    {
     "name": "stdout",
     "output_type": "stream",
     "text": [
      "Sue.Smith@company.com\n",
      "--> Test User\n",
      "None\n",
      "Sue.Smith@company.com\n",
      "--> Test User\n",
      "--> Mike Cannon\n",
      "None\n",
      "Sue.Smith@company.com\n",
      "--> Mike Cannon\n",
      "None\n"
     ]
    }
   ],
   "source": [
    "# creating a Manager and team \n",
    "\n",
    "mgr_1 = Manager('Sue', 'Smith', 90000, [dev_1])\n",
    "\n",
    "print(mgr_1.email)\n",
    "print(mgr_1.print_emps())\n",
    "\n",
    "print(mgr_1.email)\n",
    "mgr_1.add_emp(dev_2)\n",
    "print(mgr_1.print_emps())\n",
    "\n",
    "print(mgr_1.email)\n",
    "mgr_1.remove_emp(dev_1)\n",
    "print(mgr_1.print_emps())\n"
   ]
  },
  {
   "cell_type": "code",
   "execution_count": 28,
   "metadata": {},
   "outputs": [
    {
     "name": "stdout",
     "output_type": "stream",
     "text": [
      "isinstance: \n",
      "True\n",
      "False\n",
      "issubclass: \n",
      "False\n",
      "True\n"
     ]
    }
   ],
   "source": [
    "# Some useful functions\n",
    "\n",
    "print('isinstance: ')\n",
    "print(isinstance(mgr_1, Manager))\n",
    "print(isinstance(mgr_1, Developer))\n",
    "\n",
    "print('issubclass: ')\n",
    "print(issubclass(Developer, Manager))\n",
    "print(issubclass(Developer, Employee))"
   ]
  }
 ],
 "metadata": {
  "kernelspec": {
   "display_name": "Python 3.9.7 64-bit",
   "language": "python",
   "name": "python3"
  },
  "language_info": {
   "codemirror_mode": {
    "name": "ipython",
    "version": 3
   },
   "file_extension": ".py",
   "mimetype": "text/x-python",
   "name": "python",
   "nbconvert_exporter": "python",
   "pygments_lexer": "ipython3",
   "version": "3.9.7"
  },
  "orig_nbformat": 4,
  "vscode": {
   "interpreter": {
    "hash": "f6ddcb7f1e1f40e089531316779d9f4be0b66693bd1ca2b7b51783f03881890e"
   }
  }
 },
 "nbformat": 4,
 "nbformat_minor": 2
}
