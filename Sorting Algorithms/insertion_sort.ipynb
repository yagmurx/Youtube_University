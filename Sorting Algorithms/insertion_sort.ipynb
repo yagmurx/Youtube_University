{
 "cells": [
  {
   "attachments": {},
   "cell_type": "markdown",
   "metadata": {},
   "source": [
    "# Insertion Sort\n",
    "\n",
    "Select first array element. If it is smaller than second, protect its position.\n",
    "Now your cursor at second element, if it is bigger than third, swap them. If  it is smaller than first too, swap them again. Now original third element is first, first is second and second is third.\n",
    "\n",
    "**Time Complexity** O(n^2)\n",
    "\n",
    "## Example \n",
    "Original: [ 11 14 8 20 4]  \n",
    "Step 1: [11 14 8 20 4]  \n",
    "_____________⇧  \n",
    "Step 2: [8 11 14 20 4]  \n",
    "__________________⇧  \n",
    "Step 3: [4 8 11 14 20]    "
   ]
  },
  {
   "cell_type": "code",
   "execution_count": 11,
   "metadata": {},
   "outputs": [
    {
     "name": "stdout",
     "output_type": "stream",
     "text": [
      "[4, 8, 11, 14, 20]\n"
     ]
    }
   ],
   "source": [
    "Array = [11, 14, 8, 20, 4]\n",
    "\n",
    "def insertion_sort(A):\n",
    "    for i in range(1, len(A)):\n",
    "        curNum = A[i]\n",
    "        \n",
    "        j = i-1\n",
    "        while j >= 0 and curNum < A[j]:\n",
    "            A[j+1] = A[j]\n",
    "            j = j-1\n",
    "        \n",
    "        A[j+1] = curNum\n",
    "        \n",
    "insertion_sort(Array)\n",
    "print(Array)\n"
   ]
  },
  {
   "cell_type": "code",
   "execution_count": null,
   "metadata": {},
   "outputs": [],
   "source": []
  }
 ],
 "metadata": {
  "kernelspec": {
   "display_name": "Python 3",
   "language": "python",
   "name": "python3"
  },
  "language_info": {
   "codemirror_mode": {
    "name": "ipython",
    "version": 3
   },
   "file_extension": ".py",
   "mimetype": "text/x-python",
   "name": "python",
   "nbconvert_exporter": "python",
   "pygments_lexer": "ipython3",
   "version": "3.9.7"
  },
  "orig_nbformat": 4,
  "vscode": {
   "interpreter": {
    "hash": "f6ddcb7f1e1f40e089531316779d9f4be0b66693bd1ca2b7b51783f03881890e"
   }
  }
 },
 "nbformat": 4,
 "nbformat_minor": 2
}
