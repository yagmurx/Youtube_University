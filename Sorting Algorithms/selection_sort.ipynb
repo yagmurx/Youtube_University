{
 "cells": [
  {
   "attachments": {},
   "cell_type": "markdown",
   "metadata": {},
   "source": [
    "# Selection Sort\n",
    "\n",
    "Select first array element, find the smallest element and swap their place.\n",
    "\n",
    "**Time Complexity** O(n^2)\n",
    "\n",
    "## Example \n",
    "Original: [ 11 8 20 4 14]  \n",
    "Step 1: 4 [8 20 11 14]  \n",
    "Step 2: 4 8 11 [20 14]  \n",
    "Result: 4 8 11 14 20  "
   ]
  },
  {
   "cell_type": "code",
   "execution_count": 6,
   "metadata": {},
   "outputs": [
    {
     "name": "stdout",
     "output_type": "stream",
     "text": [
      "[4, 8, 11, 14, 20]\n"
     ]
    }
   ],
   "source": [
    "Array = [11, 8, 20, 4, 14]\n",
    "\n",
    "def selection_sort(A):\n",
    "    for i in range(0, len(A)-1):\n",
    "        minIndex = i\n",
    "        for j in range(i+1, len(A)):\n",
    "            if A[j] < A[minIndex]:\n",
    "                minIndex = j\n",
    "        if minIndex != i:\n",
    "            A[i], A[minIndex] = A[minIndex], A[i]\n",
    "\n",
    "selection_sort(Array)\n",
    "\n",
    "print(Array)"
   ]
  }
 ],
 "metadata": {
  "kernelspec": {
   "display_name": "Python 3",
   "language": "python",
   "name": "python3"
  },
  "language_info": {
   "codemirror_mode": {
    "name": "ipython",
    "version": 3
   },
   "file_extension": ".py",
   "mimetype": "text/x-python",
   "name": "python",
   "nbconvert_exporter": "python",
   "pygments_lexer": "ipython3",
   "version": "3.9.7"
  },
  "orig_nbformat": 4,
  "vscode": {
   "interpreter": {
    "hash": "f6ddcb7f1e1f40e089531316779d9f4be0b66693bd1ca2b7b51783f03881890e"
   }
  }
 },
 "nbformat": 4,
 "nbformat_minor": 2
}
