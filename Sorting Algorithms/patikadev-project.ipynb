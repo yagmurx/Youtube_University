{
 "cells": [
  {
   "attachments": {},
   "cell_type": "markdown",
   "metadata": {},
   "source": [
    "[patika.dev](patika.dev) Backend Path  \n",
    "Data Structures and Algorithms  \n",
    "Date: 14 December 2022  "
   ]
  },
  {
   "attachments": {},
   "cell_type": "markdown",
   "metadata": {},
   "source": [
    "# Insertion Sort\n",
    "\n",
    "Array = [22,27,16,2,18,6] \n",
    "\n",
    "**Solution**   \n",
    "Step 1: no swap [22 27]  \n",
    "Step 2: [22 16 27 2 18 6] -> [16 22 27 2 18 6]  \n",
    "Step 3: [16 22 2 27 18 6] -> [16 2 22 27 18 6] -> [2 16 22 27 18 6]  \n",
    "Step 4: [2 16 22 18 27 6] -> [2 16 18 22 27 6]  \n",
    "Step 5: [2 16 22 18 6 27] -> [2 16 22 6 18 27] -> [2 16 6 18 22 27] -> [2 7 16 18 22 27]  \n",
    "\n",
    "**Result** [2 7 16 18 22 27]  \n",
    "\n",
    "**Big-O-Notation** n^2 = 6^2 = 36\n",
    "\n",
    "**Time Complexity** for 18, Average Case"
   ]
  },
  {
   "attachments": {},
   "cell_type": "markdown",
   "metadata": {},
   "source": [
    "# Selection Sort\n",
    "\n",
    "Array = [7,3,5,8,2,9,4,15,6]  \n",
    "\n",
    "**Solution**  \n",
    "Step 1: [2 3 5 8 7 9 4 15 6]  \n",
    "Step 2: [2 3 4 8 7 9 5 15 6]  \n",
    "Step 3: [2 3 4 5 7 9 8 15 6]  \n",
    "Step 4: [2 3 4 5 7 8 9 15 6]  "
   ]
  },
  {
   "attachments": {},
   "cell_type": "markdown",
   "metadata": {},
   "source": [
    "# Merge Sort\n",
    "\n",
    "Array = [16,21,11,8,12,22]  \n",
    "\n",
    "**Solution**  \n",
    "Step 1: [16 21 11] [8 12 22]  \n",
    "Step 2: [16 21] [11] [8 12] [22]  \n",
    "Step 3: [16] [21] [11] [8] [12] [22]  \n",
    "Step 4: [16 21] [8 11] [12 22]  \n",
    "Step 5: [8 11 16 21] [12 22]  \n",
    "**Result** [8 11 12 16 21 22]   \n",
    "\n",
    "**Big-O-Notation** O(nlogn) = O(6*log6) = 4,67"
   ]
  },
  {
   "cell_type": "markdown",
   "metadata": {},
   "source": []
  }
 ],
 "metadata": {
  "language_info": {
   "name": "python"
  },
  "orig_nbformat": 4
 },
 "nbformat": 4,
 "nbformat_minor": 2
}
