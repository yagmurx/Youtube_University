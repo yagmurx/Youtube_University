{
 "cells": [
  {
   "attachments": {},
   "cell_type": "markdown",
   "metadata": {},
   "source": [
    "# Merge Sort\n",
    "It splits the array in half, and splits two partiation half again. After dividing array into smallest units, start merging the elements again based on comparison of size of elements\n",
    "\n",
    "**Time Complexity** O(nlogn)\n",
    "\n",
    "## Example\n",
    "Original: [22 17 40 4 29 8 33]  \n",
    "_____________________⇧  \n",
    "Step 1: [27 17 40 4]   [29 8 33]  \n",
    "______________⇧____________⇧  \n",
    "Step 2: [27 17] [40 4] [29 8] [33]  \n",
    "___________⇧______⇧______⇧  \n",
    "Step 3: [27] [17] [40] [4] [29] [8] [33]  \n",
    "Step 4: [17 27] [4 40] [8 29] [33]  \n",
    "Step 5: [4 17 27 40] [8 29 33]  \n",
    "Result: [4 8 17 27 29 33 40]  "
   ]
  },
  {
   "cell_type": "code",
   "execution_count": 3,
   "metadata": {},
   "outputs": [
    {
     "name": "stdout",
     "output_type": "stream",
     "text": [
      "[4, 8, 17, 22, 29, 33, 40]\n"
     ]
    }
   ],
   "source": [
    "Array = [22, 17, 40, 4, 29, 8, 33]\n",
    "\n",
    "def merge_sort(A):\n",
    "    if len(A) > 1:\n",
    "        mid = len(A)//2\n",
    "        L = A[:mid]\n",
    "        R = A[mid:]\n",
    "\n",
    "        merge_sort(L)\n",
    "        merge_sort(R)\n",
    "\n",
    "        i = j = k = 0\n",
    "\n",
    "        while i < len(L) and j < len(R):\n",
    "            if L[i] <= R[j]:\n",
    "                A[k] = L[i]\n",
    "                i += 1\n",
    "            else:\n",
    "                A[k] = R[j]\n",
    "                j += 1\n",
    "            \n",
    "            k += 1\n",
    "        \n",
    "        while i < len(L):\n",
    "            A[k] = L[i]\n",
    "            i += 1\n",
    "            k += 1\n",
    "        \n",
    "        while j < len(R):\n",
    "            A[k] = R[j]\n",
    "            j += 1\n",
    "            k += 1\n",
    "\n",
    "merge_sort(Array)\n",
    "print(Array)"
   ]
  }
 ],
 "metadata": {
  "kernelspec": {
   "display_name": "Python 3",
   "language": "python",
   "name": "python3"
  },
  "language_info": {
   "codemirror_mode": {
    "name": "ipython",
    "version": 3
   },
   "file_extension": ".py",
   "mimetype": "text/x-python",
   "name": "python",
   "nbconvert_exporter": "python",
   "pygments_lexer": "ipython3",
   "version": "3.9.7"
  },
  "orig_nbformat": 4,
  "vscode": {
   "interpreter": {
    "hash": "f6ddcb7f1e1f40e089531316779d9f4be0b66693bd1ca2b7b51783f03881890e"
   }
  }
 },
 "nbformat": 4,
 "nbformat_minor": 2
}
