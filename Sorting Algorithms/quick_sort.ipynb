{
 "cells": [
  {
   "attachments": {},
   "cell_type": "markdown",
   "metadata": {},
   "source": [
    "# Quick Sort\n",
    "\n",
    "Select a pivot value, left partition should be smaller than pivot and right partition should be bigger than pivot. Selecting pivot as a median of the array is the best practice for this method.\n",
    "\n",
    "**Time Complexity** worst case: O(n^2) average case: O(nlogn)\n",
    "\n",
    "## Example \n",
    "Original: [ 22 17 40 4 29 8 33]  <- 22 is pivot    \n",
    "\n",
    "Step 1: [22 17 40 4 29 8 33]  \n",
    "____________⇧  \n",
    "Step 2: [22 17 40 4 29 8 33]  \n",
    "____________⇧__⇧  \n",
    "Step 3: [22 17 4 40 29 8 33]  \n",
    "_______________⇧__⇧  \n",
    "Step 4: [22 17 4 40 29 8 33]  \n",
    "_______________⇧____⇧  \n",
    "Step 5: [22 17 4 8 40 29 33]  \n",
    "_________________⇧____⇧  \n",
    "Step 6: [22 17 4 8 40 29 33]  \n",
    "_________________⇧_______⇧  \n",
    "Step 7: [17 4 8 22 49 29 33] <- It is the first result for pivot = 22.   \n",
    "_________________⇧  \n",
    "\n",
    "Now select a new pivot from left partition and do all steps again.  "
   ]
  },
  {
   "cell_type": "code",
   "execution_count": 4,
   "metadata": {},
   "outputs": [
    {
     "name": "stdout",
     "output_type": "stream",
     "text": [
      "[4, 8, 17, 22, 29, 33, 40]\n"
     ]
    }
   ],
   "source": [
    "Array = [22, 17, 40, 4, 29, 8, 33]\n",
    "\n",
    "def partition(A, low, high):\n",
    "    pivot = A[high]\n",
    "    \n",
    "    i = low - 1\n",
    "\n",
    "    for j in range(low, high):\n",
    "        if A[j] <= pivot:\n",
    "            i += 1\n",
    "\n",
    "            A[i], A[j] = A[j], A[i]\n",
    "    \n",
    "    A[i+1], A[high] = A[high], A[i+1]\n",
    "\n",
    "    return i+1\n",
    "\n",
    "def quick_sort(A, low, high):\n",
    "    if low < high:\n",
    "        pi = partition(A, low, high)\n",
    "        quick_sort(A, low, pi-1)\n",
    "        quick_sort(A, pi+1, high)\n",
    "\n",
    "quick_sort(Array, 0, len(Array)-1)\n",
    "print(Array)\n",
    "\n"
   ]
  }
 ],
 "metadata": {
  "kernelspec": {
   "display_name": "Python 3",
   "language": "python",
   "name": "python3"
  },
  "language_info": {
   "codemirror_mode": {
    "name": "ipython",
    "version": 3
   },
   "file_extension": ".py",
   "mimetype": "text/x-python",
   "name": "python",
   "nbconvert_exporter": "python",
   "pygments_lexer": "ipython3",
   "version": "3.9.7 (tags/v3.9.7:1016ef3, Aug 30 2021, 20:19:38) [MSC v.1929 64 bit (AMD64)]"
  },
  "orig_nbformat": 4,
  "vscode": {
   "interpreter": {
    "hash": "f6ddcb7f1e1f40e089531316779d9f4be0b66693bd1ca2b7b51783f03881890e"
   }
  }
 },
 "nbformat": 4,
 "nbformat_minor": 2
}
